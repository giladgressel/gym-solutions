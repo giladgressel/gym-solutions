{
 "cells": [
  {
   "cell_type": "code",
   "execution_count": 51,
   "metadata": {},
   "outputs": [],
   "source": [
    "import gym\n",
    "import os\n",
    "import numpy as np\n",
    "\n",
    "import matplotlib.pyplot as plt\n",
    "%matplotlib inline"
   ]
  },
  {
   "cell_type": "code",
   "execution_count": 5,
   "metadata": {},
   "outputs": [
    {
     "name": "stderr",
     "output_type": "stream",
     "text": [
      "[2018-04-15 18:32:40,186] Making new env: Taxi-v2\n"
     ]
    }
   ],
   "source": [
    "# Environment initialization\n",
    "env = gym.make('Taxi-v2')"
   ]
  },
  {
   "cell_type": "code",
   "execution_count": 56,
   "metadata": {},
   "outputs": [],
   "source": [
    "# Q and rewards\n",
    "Q = np.zeros((env.observation_space.n, env.action_space.n))\n",
    "rewards = []\n",
    "iterations = []\n",
    "\n",
    "# Parameters\n",
    "alpha = 0.75\n",
    "discount = 0.95\n",
    "episodes = 5000"
   ]
  },
  {
   "cell_type": "code",
   "execution_count": 57,
   "metadata": {},
   "outputs": [],
   "source": [
    "# Episodes\n",
    "for episode in range(episodes):\n",
    "    # Refresh state\n",
    "    state = env.reset()\n",
    "    done = False\n",
    "    t_reward = 0\n",
    "    max_steps = env.spec.tags.get('wrapper_config.TimeLimit.max_episode_steps')\n",
    "\n",
    "    # Run episode\n",
    "    for i in range(max_steps):\n",
    "        if done:\n",
    "            break\n",
    "\n",
    "        current = state\n",
    "        #action = env.action_space.sample()\n",
    "        action = np.argmax(Q[current,:] + np.random.randn(1, env.action_space.n) * (1 / float(episode + 1)))\n",
    "\n",
    "        state, reward, done, info = env.step(action)\n",
    "        t_reward += reward\n",
    "        Q[current, action] += alpha * (reward + discount * np.max(Q[state,:]) - Q[current, action])\n",
    "\n",
    "    rewards.append(t_reward)\n",
    "    iterations.append(i)"
   ]
  },
  {
   "cell_type": "code",
   "execution_count": 64,
   "metadata": {},
   "outputs": [
    {
     "data": {
      "image/png": "[encoded data removed]",
      "text/plain": [
       "<matplotlib.figure.Figure at 0x104310208>"
      ]
     },
     "metadata": {},
     "output_type": "display_data"
    }
   ],
   "source": [
    "# Plot results\n",
    "def chunk_list(l, n):\n",
    "    for i in range(0, len(l), n):\n",
    "        yield l[i:i + n]\n",
    "\n",
    "size = 5\n",
    "chunks = list(chunk_list(rewards, size))\n",
    "averages = [sum(chunk) / len(chunk) for chunk in chunks]\n",
    "\n",
    "plt.plot(list(range(0, len(rewards), size)), averages)\n",
    "plt.xlabel('Episode')\n",
    "plt.ylabel('Average Reward')\n",
    "plt.ylim(-5, 12)\n",
    "plt.show()"
   ]
  },
  {
   "cell_type": "code",
   "execution_count": 59,
   "metadata": {},
   "outputs": [],
   "source": [
    "policy = np.argmax(Q, axis=1)\n"
   ]
  },
  {
   "cell_type": "code",
   "execution_count": 60,
   "metadata": {},
   "outputs": [],
   "source": [
    "def test_policy_Taxi(policy, env_name):\n",
    "    problem = gym.make(env_name)\n",
    "    done = False\n",
    "    total_rewards = []\n",
    "    num_steps = []\n",
    "    for i in range(1000):\n",
    "        state = problem.reset()\n",
    "        done = False\n",
    "        i = 0\n",
    "        ep_reward = 0\n",
    "        while not done:\n",
    "            #print (\"state is :{} \".format(state))\n",
    "            #print (agent.Q[state])\n",
    "\n",
    "            action = policy[state]\n",
    "            #print (\"action is :{}\".format(action))\n",
    "\n",
    "            state , reward, done, _ = problem.step(action)\n",
    "            i +=1\n",
    "            ep_reward+=reward\n",
    "            #problem.render()\n",
    "        #problem.render()\n",
    "        total_rewards.append(ep_reward)\n",
    "        num_steps.append(i)\n",
    "\n",
    "    print (\"Average Episode Reward: {}\".format(np.mean(total_rewards)))\n",
    "    print (\"Average Steps: {}\".format(np.mean(num_steps)))"
   ]
  },
  {
   "cell_type": "code",
   "execution_count": 61,
   "metadata": {},
   "outputs": [
    {
     "name": "stderr",
     "output_type": "stream",
     "text": [
      "[2018-04-15 18:44:40,987] Making new env: Taxi-v2\n"
     ]
    },
    {
     "name": "stdout",
     "output_type": "stream",
     "text": [
      "Average Episode Reward: 8.192\n",
      "Average Steps: 12.808\n"
     ]
    }
   ],
   "source": [
    "test_policy_Taxi(policy, 'Taxi-v2')"
   ]
  },
  {
   "cell_type": "code",
   "execution_count": null,
   "metadata": {},
   "outputs": [],
   "source": []
  }
 ],
 "metadata": {
  "kernelspec": {
   "display_name": "Python [default]",
   "language": "python",
   "name": "python3"
  },
  "language_info": {
   "codemirror_mode": {
    "name": "ipython",
    "version": 3
   },
   "file_extension": ".py",
   "mimetype": "text/x-python",
   "name": "python",
   "nbconvert_exporter": "python",
   "pygments_lexer": "ipython3",
   "version": "3.5.2"
  }
 },
 "nbformat": 4,
 "nbformat_minor": 2
}

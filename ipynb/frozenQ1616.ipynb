{
 "cells": [
  {
   "cell_type": "code",
   "execution_count": 1,
   "metadata": {},
   "outputs": [],
   "source": [
    "import gym\n",
    "import os\n",
    "import numpy as np\n",
    "import time\n",
    "import matplotlib.pyplot as plt"
   ]
  },
  {
   "cell_type": "code",
   "execution_count": 2,
   "metadata": {},
   "outputs": [],
   "source": [
    "# Environment initialization\n",
    "from gym.envs.toy_text import FrozenLakeEnv\n",
    "\n",
    "# NEW 16x16 FROZEN LAKE\n",
    "desc = [\"SFFFFFFFHFFFFFFF\",\n",
    "        \"FFFFFFFFFFFFFFFF\",\n",
    "        \"FFFHFFFFFFFHFFFF\",\n",
    "        \"FFFFFHFFFFFFFHFF\",\n",
    "        \"FFFHFFFFFFFHFFFF\",\n",
    "        \"FHHFFFHFFHHFFFHF\",\n",
    "        \"FHFFHFHFFHFFHFHF\",\n",
    "        \"FFFHFFFFFFFHFFFH\",\n",
    "        \"HFFFFFFFHFFFFFFF\",\n",
    "        \"FFFFFFHHHFFFFFFF\",\n",
    "        \"FFFHFFFFFFFHFFFF\",\n",
    "        \"FFFFFHFFFFFFFHFF\",\n",
    "        \"FFFHFFFFFFFHFFFF\",\n",
    "        \"FHHFFFHFFHHFFFHF\",\n",
    "        \"FHFFHFHFFHFFHFHF\",\n",
    "        \"FFFHFFFFFFFHFFFG\"]\n",
    "env = FrozenLakeEnv(desc=desc, map_name=None)"
   ]
  },
  {
   "cell_type": "code",
   "execution_count": 7,
   "metadata": {},
   "outputs": [],
   "source": [
    "# Q and rewards\n",
    "def run_Q(alpha = 0.75, discount = 0.99 , episodes = 10000, explore_scheme = \"noise\"):\n",
    "    \"\"\"\n",
    "    schemes : \"noise\", \"e-greedy\", \"random\"\n",
    "    \n",
    "    \"\"\"\n",
    "    \n",
    "    Q = np.zeros((env.observation_space.n, env.action_space.n))\n",
    "    rewards = []\n",
    "    iterations = []\n",
    "    epsilon = 0.9\n",
    "    decay_param = .000000024\n",
    "\n",
    "\n",
    "    time1 = time.time()\n",
    "    for episode in range(episodes):\n",
    "        # Refresh state\n",
    "        state = env.reset()\n",
    "        done = False\n",
    "        t_reward = 0\n",
    "        max_steps = 1000\n",
    "\n",
    "        # Run episode\n",
    "        for i in range(max_steps):\n",
    "            if done:\n",
    "                break\n",
    "\n",
    "            current = state\n",
    "            \n",
    "            ### explore scheme -- choose action\n",
    "            \n",
    "            if explore_scheme == \"noise\":\n",
    "                action = np.argmax(Q[current,:] + np.random.randn(1, env.action_space.n) * (1 / float(episode + 1)))\n",
    "            elif explore_scheme == \"random\":\n",
    "                action = env.action_space.sample()\n",
    "\n",
    "            elif explore_scheme == \"e-greedy\":\n",
    "                #epsilon = self.epsilon * np.exp(-self.epsilon_decay_param * self.episode)\n",
    "\n",
    "                if epsilon > 0.1:  #always explore 10% of the time.\n",
    "                    epsilon = epsilon * np.exp(-decay_param*episode)\n",
    "                \n",
    "                if np.random.random() > epsilon:\n",
    "                    action = np.argmax(Q[current,:])\n",
    "                else:\n",
    "                    action = env.action_space.sample()\n",
    "\n",
    "\n",
    "            state, reward, done, info = env.step(action)\n",
    "            t_reward += reward\n",
    "            Q[current, action] += alpha * (reward + discount * np.max(Q[state,:]) - Q[current, action])\n",
    "\n",
    "        rewards.append(t_reward)\n",
    "        iterations.append(i)\n",
    "\n",
    "    time2 = time.time()   \n",
    "    print('with alpha: {}, gamma : {}, and episodes: {} and scheme: {}'.format(alpha,discount,episodes, explore_scheme ))\n",
    "    print('took {:3f} ms'.format(float(time2-time1)*1000.0))\n",
    "\n",
    "    \n",
    "    policy = np.argmax(Q, axis=1)\n",
    "    \n",
    "    return (policy, rewards, episodes, epsilon)"
   ]
  },
  {
   "cell_type": "code",
   "execution_count": 8,
   "metadata": {},
   "outputs": [],
   "source": [
    "def test_policy(policy, env_name = None, env = None):\n",
    "    if env == None:\n",
    "        problem = gym.make(env_name)\n",
    "    else:\n",
    "        from gym.wrappers.time_limit import TimeLimit\n",
    "        problem = TimeLimit(env)\n",
    "        \n",
    "    done = False\n",
    "    total_reward = 0\n",
    "    num_steps = []\n",
    "    for i in range(1000):\n",
    "        state = problem.reset()\n",
    "        done = False\n",
    "        i = 0\n",
    "        while not done:\n",
    "            #print (\"state is :{} \".format(state))\n",
    "            #print (agent.Q[state])\n",
    "\n",
    "            action = policy[state]\n",
    "            #print (\"action is :{}\".format(action))\n",
    "\n",
    "            state , reward, done, _ = problem.step(action)\n",
    "            i +=1\n",
    "            #problem.render()\n",
    "        #problem.render()\n",
    "        total_reward += reward\n",
    "        num_steps.append(i)\n",
    "\n",
    "    print (\"Total Reward: {}\".format(total_reward))\n",
    "    print (\"Average Steps: {}\".format(np.mean(num_steps)))"
   ]
  },
  {
   "cell_type": "code",
   "execution_count": 9,
   "metadata": {},
   "outputs": [],
   "source": [
    "# Plot results\n",
    "def chunk_list(l, n):\n",
    "    for i in range(0, len(l), n):\n",
    "        yield l[i:i + n]\n",
    "\n",
    "def plot_rewards(episodes, rewards, params):\n",
    "    a,d,e,ex = params    \n",
    "    size = episodes // 50\n",
    "    chunks = list(chunk_list(rewards, size))\n",
    "    averages = [sum(chunk) / len(chunk) for chunk in chunks]\n",
    "\n",
    "    plt.plot(list(range(0, len(rewards), size)), averages)\n",
    "    plt.xlabel('Episode')\n",
    "    plt.ylabel('Average Reward')\n",
    "    plt.title('Alpha : {}, Discount: {}, Episodes: {}, Explore: {}'.format(a,d,e,ex))\n",
    "    plt.show()"
   ]
  },
  {
   "cell_type": "code",
   "execution_count": 10,
   "metadata": {},
   "outputs": [
    {
     "name": "stdout",
     "output_type": "stream",
     "text": [
      "with alpha: 0.75, gamma : 0.99, and episodes: 20000 and scheme: noise\n",
      "took 29340.209961 ms\n"
     ]
    },
    {
     "data": {
      "image/png": "[encoded data removed]",
      "text/plain": [
       "<matplotlib.figure.Figure at 0x10b7bd908>"
      ]
     },
     "metadata": {},
     "output_type": "display_data"
    },
    {
     "name": "stdout",
     "output_type": "stream",
     "text": [
      "policy is : [0 0 0 0 0 0 0 0 0 0 0 0 0 0 0 0 0 0 0 0 0 0 0 0 0 0 0 0 0 0 0 0 0 0 0 0 0\n",
      " 0 0 0 0 0 0 0 0 0 0 0 0 0 0 0 0 0 0 0 0 0 0 0 0 0 0 0 0 0 0 0 0 0 0 0 0 0\n",
      " 0 0 0 0 0 0 0 0 0 0 0 0 0 0 0 0 0 0 0 0 0 0 0 0 0 0 0 0 0 0 0 0 0 0 0 0 0\n",
      " 0 0 0 0 0 0 0 0 0 0 0 0 0 0 0 0 0 0 0 0 0 0 0 0 0 0 0 0 0 0 0 0 0 0 0 0 0\n",
      " 0 0 0 0 0 0 0 0 0 0 0 0 0 0 0 0 0 0 0 0 0 0 0 0 0 0 0 0 0 0 0 0 0 0 0 0 0\n",
      " 0 0 0 0 0 0 0 0 0 0 0 0 0 0 0 0 0 0 0 0 0 0 0 0 0 0 0 0 0 0 0 0 0 0 0 0 0\n",
      " 0 0 0 0 0 0 0 0 0 0 0 0 0 0 0 0 0 0 0 0 0 0 0 0 0 0 0 0 0 0 0 0 0 0]\n",
      "Total Reward: 0.0\n",
      "Average Steps: 106.59\n"
     ]
    }
   ],
   "source": [
    "params = {'alpha':0.75, 'discount' : 0.99 , 'episodes' : 20000, 'explore_scheme' : \"noise\"}\n",
    "policy, rewards, episodes, epsilon = run_Q(**params)\n",
    "\n",
    "prams = (params['alpha'], params['discount'], params['episodes'], params['explore_scheme'])\n",
    "plot_rewards(episodes, rewards, prams)\n",
    "print (\"policy is : {}\".format(policy))\n",
    "\n",
    "test_policy(policy,env = env  )"
   ]
  },
  {
   "cell_type": "code",
   "execution_count": 11,
   "metadata": {},
   "outputs": [
    {
     "name": "stdout",
     "output_type": "stream",
     "text": [
      "with alpha: 0.75, gamma : 0.99, and episodes: 20000 and scheme: random\n",
      "took 31463.439941 ms\n"
     ]
    },
    {
     "data": {
      "image/png": "[encoded data removed]",
      "text/plain": [
       "<matplotlib.figure.Figure at 0x10d7a5518>"
      ]
     },
     "metadata": {},
     "output_type": "display_data"
    },
    {
     "name": "stdout",
     "output_type": "stream",
     "text": [
      "policy is : [0 0 0 0 0 0 0 0 0 0 0 0 0 0 0 0 0 0 0 0 0 0 0 0 0 0 0 0 0 0 0 0 0 0 0 0 0\n",
      " 0 0 0 0 0 0 0 0 0 0 0 0 0 0 0 0 0 0 0 0 0 0 0 0 0 0 0 0 0 0 0 0 0 0 0 0 0\n",
      " 0 0 0 0 0 0 0 0 0 0 0 0 0 0 0 0 0 0 0 0 0 0 0 0 0 0 0 0 0 0 0 0 0 0 0 0 0\n",
      " 0 0 0 0 0 0 0 0 0 0 0 0 0 0 0 0 0 0 0 0 0 0 0 0 0 0 0 0 0 0 0 0 0 0 0 0 0\n",
      " 0 0 0 0 0 0 0 0 0 0 0 0 0 0 0 0 0 0 0 0 0 0 0 0 0 0 0 0 0 0 0 0 0 0 0 0 0\n",
      " 0 0 0 0 0 0 0 0 0 0 0 0 0 0 0 0 0 0 0 0 0 0 0 0 0 0 0 0 0 0 0 0 0 0 0 0 0\n",
      " 0 0 0 0 0 0 0 0 0 0 0 0 0 0 0 0 0 0 0 0 0 0 0 0 0 0 0 0 0 0 0 0 0 0]\n",
      "Total Reward: 0.0\n",
      "Average Steps: 108.575\n"
     ]
    }
   ],
   "source": [
    "params = {'alpha':0.75, 'discount' : 0.99 , 'episodes' : 20000, 'explore_scheme' : \"random\"}\n",
    "policy, rewards, episodes, epsilon = run_Q(**params)\n",
    "\n",
    "prams = (params['alpha'], params['discount'], params['episodes'], params['explore_scheme'])\n",
    "plot_rewards(episodes, rewards, prams)\n",
    "print (\"policy is : {}\".format(policy))\n",
    "\n",
    "test_policy(policy,env = env  )"
   ]
  },
  {
   "cell_type": "code",
   "execution_count": 12,
   "metadata": {},
   "outputs": [
    {
     "name": "stdout",
     "output_type": "stream",
     "text": [
      "with alpha: 0.75, gamma : 0.99, and episodes: 20000 and scheme: e-greedy\n",
      "took 41383.613825 ms\n"
     ]
    },
    {
     "data": {
      "image/png": "[encoded data removed]",
      "text/plain": [
       "<matplotlib.figure.Figure at 0x10d738ac8>"
      ]
     },
     "metadata": {},
     "output_type": "display_data"
    },
    {
     "name": "stdout",
     "output_type": "stream",
     "text": [
      "policy is : [0 0 0 0 0 0 0 0 0 0 0 0 0 0 0 0 0 0 0 0 0 0 0 0 0 0 0 0 0 0 0 0 0 0 0 0 0\n",
      " 0 0 0 0 0 0 0 0 0 0 0 0 0 0 0 0 0 0 0 0 0 0 0 0 0 0 0 0 0 0 0 0 0 0 0 0 0\n",
      " 0 0 0 0 0 0 0 0 0 0 0 0 0 0 0 0 0 0 0 0 0 0 0 0 0 0 0 0 0 0 0 0 0 0 0 0 0\n",
      " 0 0 0 0 0 0 0 0 0 0 0 0 0 0 0 0 0 0 0 0 0 0 0 0 0 0 0 0 0 0 0 0 0 0 0 0 0\n",
      " 0 0 0 0 0 0 0 0 0 0 0 0 0 0 0 0 0 0 0 0 0 0 0 0 0 0 0 0 0 0 0 0 0 0 0 0 0\n",
      " 0 0 0 0 0 0 0 0 0 0 0 0 0 0 0 0 0 0 0 0 0 0 0 0 0 0 0 0 0 0 0 0 0 0 0 0 0\n",
      " 0 0 0 0 0 0 0 0 0 0 0 0 0 0 0 0 0 0 0 0 0 0 0 0 0 0 0 0 0 0 0 0 0 0]\n",
      "Total Reward: 0.0\n",
      "Average Steps: 108.217\n"
     ]
    }
   ],
   "source": [
    "params = {'alpha':0.75, 'discount' : 0.99 , 'episodes' : 20000, 'explore_scheme' : \"e-greedy\"}\n",
    "policy, rewards, episodes, epsilon = run_Q(**params)\n",
    "\n",
    "prams = (params['alpha'], params['discount'], params['episodes'], params['explore_scheme'])\n",
    "plot_rewards(episodes, rewards, prams)\n",
    "print (\"policy is : {}\".format(policy))\n",
    "\n",
    "test_policy(policy,env = env  )"
   ]
  },
  {
   "cell_type": "code",
   "execution_count": null,
   "metadata": {},
   "outputs": [],
   "source": [
    "epsilon"
   ]
  },
  {
   "cell_type": "code",
   "execution_count": null,
   "metadata": {},
   "outputs": [],
   "source": []
  },
  {
   "cell_type": "code",
   "execution_count": null,
   "metadata": {},
   "outputs": [],
   "source": []
  }
 ],
 "metadata": {
  "kernelspec": {
   "display_name": "Python [default]",
   "language": "python",
   "name": "python3"
  },
  "language_info": {
   "codemirror_mode": {
    "name": "ipython",
    "version": 3
   },
   "file_extension": ".py",
   "mimetype": "text/x-python",
   "name": "python",
   "nbconvert_exporter": "python",
   "pygments_lexer": "ipython3",
   "version": "3.5.2"
  }
 },
 "nbformat": 4,
 "nbformat_minor": 2
}
